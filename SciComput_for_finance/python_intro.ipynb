{
 "cells": [
  {
   "cell_type": "markdown",
   "id": "d57424c4",
   "metadata": {},
   "source": [
    "##### <b>ASCII Values</b>\n",
    "The functions chr() and ord() can be used to convert characters from and to ASCII.\n",
    "***\n",
    "##### <b>Polymorphism</b>\n",
    "The meaning of an operator depends on the types we are applying it to.\n",
    "***\n",
    "##### <b>Mutable Datastructures</b>\n",
    "Lists are mutable; their contents can change as more statements are interpreted.\n",
    "***\n",
    "##### <b>State and Identity</b>\n",
    "- To compare state use the == operator.\n",
    "    - When we compare identity we check equality of references.\n",
    "\n",
    "- To compare identity use the is operator.\n",
    "    - When we compare state we check equality of values.\n",
    "***"
   ]
  },
  {
   "cell_type": "markdown",
   "id": "450e64bf",
   "metadata": {},
   "source": [
    "\n",
    "#### <b>List Slicing</b>\n",
    "We can also a specify a range of positions.\n",
    "This is called slicing.\n",
    "The example below indexes from position 0 (inclusive) to 2 (exclusive).\n",
    "\n",
    "l[0:2]\n",
    "['first', 'second'] \n",
    "\n",
    "If we leave out the starting index it implies the beginning of the list:\n",
    "\n",
    "l[:2]\n",
    "['first', 'second'] \n",
    "\n",
    "If we leave out the final index it implies the end of the list:\n",
    "\n",
    "l[2:] \n",
    "['third', 'fourth']\n",
    "\n",
    "Negative Indexing\n",
    "- Negative indices count from the end of the list:\n",
    "\n",
    "l[-1]\n",
    "'fourth'\n",
    "\n",
    "l[:-1]\n",
    "['first', 'second', 'third']"
   ]
  },
  {
   "cell_type": "code",
   "execution_count": 3,
   "id": "339bbbb8",
   "metadata": {},
   "outputs": [],
   "source": [
    "a = [1,2,3,4]"
   ]
  },
  {
   "cell_type": "code",
   "execution_count": null,
   "id": "f2bd6dab",
   "metadata": {},
   "outputs": [],
   "source": []
  },
  {
   "cell_type": "markdown",
   "id": "b7e93359",
   "metadata": {},
   "source": [
    "##### Tuples\n",
    "Tuples are another way to combine different values.\n",
    "\n",
    "The combined values can be of different types.\n",
    "\n",
    "Like lists, they have a well-defined ordering and can be indexed.\n",
    "\n",
    "To create a tuple in Python, use round brackets instead of square brackets."
   ]
  },
  {
   "cell_type": "code",
   "execution_count": 4,
   "id": "38b090b9",
   "metadata": {},
   "outputs": [
    {
     "data": {
      "text/plain": [
       "tuple"
      ]
     },
     "execution_count": 4,
     "metadata": {},
     "output_type": "execute_result"
    }
   ],
   "source": [
    "\n",
    "tuple1 = (50, 'hello')\n",
    "tuple1"
   ]
  },
  {
   "cell_type": "code",
   "execution_count": 5,
   "id": "cf6c91ee",
   "metadata": {},
   "outputs": [
    {
     "data": {
      "text/plain": [
       "50"
      ]
     },
     "execution_count": 5,
     "metadata": {},
     "output_type": "execute_result"
    }
   ],
   "source": [
    "(50, 'hello')\n",
    "\n",
    "tuple1[0]"
   ]
  },
  {
   "cell_type": "code",
   "execution_count": 6,
   "id": "923083cc",
   "metadata": {},
   "outputs": [
    {
     "data": {
      "text/plain": [
       "tuple"
      ]
     },
     "execution_count": 6,
     "metadata": {},
     "output_type": "execute_result"
    }
   ],
   "source": [
    "type(tuple1)\n",
    "tuple"
   ]
  },
  {
   "cell_type": "markdown",
   "id": "bd341f76",
   "metadata": {},
   "source": [
    "##### <b>Sets</b>\n",
    "Lists can contain duplicate values.\n",
    "\n",
    "- A set, in contrast, contains no duplicates.\n",
    "- Sets can be created from lists using the set() function. or {}\n",
    "- Sets are unordered\n",
    "    - therefore, cannot index or slice them"
   ]
  },
  {
   "cell_type": "code",
   "execution_count": 11,
   "id": "c9a0929f",
   "metadata": {},
   "outputs": [
    {
     "data": {
      "text/plain": [
       "{1, 2, 3, 4}"
      ]
     },
     "execution_count": 11,
     "metadata": {},
     "output_type": "execute_result"
    }
   ],
   "source": [
    "X = set([1, 2, 3, 3, 4])\n",
    "Y = {1,2,3,4,3,2,1}\n",
    "Y"
   ]
  },
  {
   "cell_type": "code",
   "execution_count": 9,
   "id": "fefdfbaa",
   "metadata": {},
   "outputs": [
    {
     "data": {
      "text/plain": [
       "set"
      ]
     },
     "execution_count": 9,
     "metadata": {},
     "output_type": "execute_result"
    }
   ],
   "source": [
    "type(X)"
   ]
  },
  {
   "cell_type": "raw",
   "id": "f04c647c",
   "metadata": {
    "vscode": {
     "languageId": "raw"
    }
   },
   "source": [
    "Operations on sets\n",
    "Union:  X∪Y\n",
    " \n",
    "X = {1, 2, 3}\n",
    "Y = {4, 5, 6}\n",
    "X.union(Y)\n",
    "{1, 2, 3, 4, 5, 6}\n",
    "Intersection:  X∩Y\n",
    " :\n",
    "X = {1, 2, 3, 4}\n",
    "Y = {3, 4, 5}\n",
    "X.intersection(Y)\n",
    "{3, 4}\n",
    "Difference  X−Y\n",
    " :\n",
    "X - Y\n",
    "{1, 2}"
   ]
  },
  {
   "cell_type": "markdown",
   "id": "3737f322",
   "metadata": {},
   "source": []
  }
 ],
 "metadata": {
  "kernelspec": {
   "display_name": "Python 3",
   "language": "python",
   "name": "python3"
  },
  "language_info": {
   "codemirror_mode": {
    "name": "ipython",
    "version": 3
   },
   "file_extension": ".py",
   "mimetype": "text/x-python",
   "name": "python",
   "nbconvert_exporter": "python",
   "pygments_lexer": "ipython3",
   "version": "3.11.8"
  }
 },
 "nbformat": 4,
 "nbformat_minor": 5
}

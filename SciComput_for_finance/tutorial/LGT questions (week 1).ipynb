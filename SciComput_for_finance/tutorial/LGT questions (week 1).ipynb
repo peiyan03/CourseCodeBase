{
 "cells": [
  {
   "cell_type": "markdown",
   "id": "156a9494-4d3c-4cea-a5cc-0ba503ed07b6",
   "metadata": {},
   "source": [
    "# Large Group Tutorial 1\n",
    "\n",
    "Course: Scientific Computing for Finance\n",
    "\n",
    "Date: 2 October 2025\n",
    "\n",
    "Welcome to the first large group tutorial! To solve the exercises, use only the programming constructs, commands and functions introduced in the first lecture (video). Once you've done this, we also encourage you to provide additional solutions using more advanced techniques if you have prior Python experience.\n",
    "\n",
    "* To submit answers during the LGT, visit https://www.menti.com/alo15w5uhuz7 with code `1551 7724`.\n",
    "* Remember to add comments and explanations to your solutions, using markdown cells and comments in the code."
   ]
  },
  {
   "cell_type": "markdown",
   "id": "ef96d482-4167-4b35-9c37-0276ae0254f3",
   "metadata": {},
   "source": [
    "## Exercise 1\n",
    "\n",
    "Consider the following Python code:\n",
    "\n",
    "```{python}\n",
    "lst = [0, \"hello\", 5.7]\n",
    "```\n",
    "\n",
    "1. Print the second element of `lst`.\n",
    "2. What are the types of `lst` and its elements?\n",
    "3. Print the types in Python."
   ]
  },
  {
   "cell_type": "code",
   "execution_count": 1,
   "id": "223b1090-57a8-4b37-a884-036bc039ee59",
   "metadata": {},
   "outputs": [],
   "source": [
    "lst = [0, \"hello\", 5.7]"
   ]
  },
  {
   "cell_type": "markdown",
   "id": "82fef695-50c5-490e-8841-ecdc7d0520de",
   "metadata": {},
   "source": [
    "## Exercise 2\n",
    "\n",
    "Write a for loop that prints out the digits from 0 to 9 inclusive, in sequence, each on a separate line."
   ]
  },
  {
   "cell_type": "code",
   "execution_count": 14,
   "id": "8ad48048-b9fd-4ce5-9f24-745a62245c39",
   "metadata": {},
   "outputs": [],
   "source": [
    "# your answer (code) should go here"
   ]
  },
  {
   "cell_type": "markdown",
   "id": "7735097c-ff70-4dee-abab-8ca56b943068",
   "metadata": {},
   "source": [
    "## Exercise 3\n",
    "Consider the following code:\n",
    "```python\n",
    "name = \"Alice\"\n",
    "age = 25\n",
    "```\n",
    "1. Use the `+` operator to create a greeting message that says \"Hello Alice, you are 25 years old\" (**Hint:** you'll need to convert `age` to a string). Save the greeting message in a new variable.\n",
    "2. Print the result."
   ]
  },
  {
   "cell_type": "code",
   "execution_count": null,
   "id": "bdfccf3a-3141-430f-b4f1-6c80d1d58956",
   "metadata": {},
   "outputs": [],
   "source": [
    "# your answer (code) should go here"
   ]
  },
  {
   "cell_type": "markdown",
   "id": "52c73c2c-6e0b-4a69-8306-ba5d0f7ee991",
   "metadata": {},
   "source": [
    "## Exercise 4\n",
    "1. Create a tuple called `coordinates` with the values `(10, 20)`.\n",
    "2. Try to change the first element to `15` (this should produce an error).\n",
    "3. Explain what happened and why."
   ]
  },
  {
   "cell_type": "code",
   "execution_count": 15,
   "id": "83342e9a-1e61-4f89-be25-446abd01cfc2",
   "metadata": {},
   "outputs": [],
   "source": [
    "# your answer (code) should go here"
   ]
  },
  {
   "cell_type": "markdown",
   "id": "587e9337-e8de-40ec-be31-3f64d2906b0d",
   "metadata": {},
   "source": [
    "## Exercise 5\n",
    "\n",
    "Write a for loop that prints out the integers from 0 to 1000, separated by spaces, on a single line."
   ]
  },
  {
   "cell_type": "code",
   "execution_count": null,
   "id": "fe7127cf-64e9-41b6-affa-cf80156658a2",
   "metadata": {},
   "outputs": [],
   "source": [
    "# your answer (code) should go here"
   ]
  },
  {
   "cell_type": "markdown",
   "id": "0856bbdf-6ae1-4b00-867f-8ef0707829e0",
   "metadata": {},
   "source": [
    "## Exercise 6\n",
    "\n",
    "Suppose `x` is a list of integers.\n",
    "\n",
    "1. Write code that copies `x` into a variable called `y`.\n",
    "2. Write code that produces a list `z` containing only the positive integers of `x`."
   ]
  },
  {
   "cell_type": "code",
   "execution_count": 5,
   "id": "62413da8-e8d7-43b8-9960-f43bd2395ff6",
   "metadata": {},
   "outputs": [],
   "source": [
    "# your answer (code) should go here"
   ]
  },
  {
   "cell_type": "markdown",
   "id": "75bb4850-3681-434f-9fcc-61e985d2abdf",
   "metadata": {},
   "source": [
    "## Exercise 7\n",
    "\n",
    "The Caesar cipher works by shifting each character in the original message (plaintext) by a fixed number of positions up. \n",
    "\n",
    "For example, with a shift of 3, 'A' becomes 'D', 'B' becomes 'E', and so on. And the message \"HELLO\" becomes \"\"\n",
    "\n",
    "1. Implement the Caesar cipher encryption.\n",
    "\n",
    "**Hints:**\n",
    "1. Define two variables, `plaintext` and `shift`. What types of values should these be or contain?\n",
    "2. Recall from the lecture that it's possible in Python to convert characters from and to (numerical) ASCII values.\n",
    "3. Use a for loop to iterate over each character in `plaintext', shift the character, and print out the shifted character."
   ]
  },
  {
   "cell_type": "code",
   "execution_count": 11,
   "id": "b748a976-4a36-4eef-a1c2-b75398c0b388",
   "metadata": {},
   "outputs": [],
   "source": [
    "# your answer (code) should go here"
   ]
  },
  {
   "cell_type": "markdown",
   "id": "52faf506-2c3c-414f-907e-6742a980dd9a",
   "metadata": {},
   "source": [
    "## Exercise 8\n",
    "\n",
    "Now implement a way to *decrypt* a message (ciphertext) encrypted using the Caeser cipher.\n",
    "\n",
    "Test your encryption and decryption code by encrypting and then decrypting an example message.\n",
    "\n",
    "**Hints:**\n",
    "1. Define two variables, `ciphertext` and `shift`.\n",
    "2. The logic should be very similar to the encryption code from the previous exercise."
   ]
  },
  {
   "cell_type": "code",
   "execution_count": null,
   "id": "741469be-3236-4287-8f16-55deeedcb81c",
   "metadata": {},
   "outputs": [],
   "source": [
    "# your answer (code) should go here"
   ]
  },
  {
   "cell_type": "markdown",
   "id": "1c952656-7441-4d06-a556-8df7a5e10dc9",
   "metadata": {},
   "source": [
    "## Exercise 9\n",
    "\n",
    "Write code that converts temperature `x` from Fahrenheit to Celsius, and temperature `y` from Celsius to Fahrenheit.\n",
    "\n",
    "From Wikipedia:\n",
    "\n",
    "$$\n",
    "x \\degree F = \\frac{5}{9} \\times (x-32) \\degree C.\n",
    "$$\n",
    "\n",
    "$$\n",
    "y \\degree C = (y \\times \\frac{5}{9} + 32) \\degree F.\n",
    "$$"
   ]
  },
  {
   "cell_type": "code",
   "execution_count": null,
   "id": "63398bfc-f366-47b3-8df5-13f965c7baeb",
   "metadata": {},
   "outputs": [],
   "source": [
    "# your answer (code) should go here"
   ]
  }
 ],
 "metadata": {
  "kernelspec": {
   "display_name": "Python [conda env:base] *",
   "language": "python",
   "name": "conda-base-py"
  },
  "language_info": {
   "codemirror_mode": {
    "name": "ipython",
    "version": 3
   },
   "file_extension": ".py",
   "mimetype": "text/x-python",
   "name": "python",
   "nbconvert_exporter": "python",
   "pygments_lexer": "ipython3",
   "version": "3.13.5"
  }
 },
 "nbformat": 4,
 "nbformat_minor": 5
}

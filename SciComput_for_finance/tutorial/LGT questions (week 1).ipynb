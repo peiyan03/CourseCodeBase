{
 "cells": [
  {
   "cell_type": "markdown",
   "id": "156a9494-4d3c-4cea-a5cc-0ba503ed07b6",
   "metadata": {},
   "source": [
    "# Large Group Tutorial 1\n",
    "\n",
    "Course: Scientific Computing for Finance\n",
    "\n",
    "Date: 2 October 2025\n",
    "\n",
    "Welcome to the first large group tutorial! To solve the exercises, use only the programming constructs, commands and functions introduced in the first lecture (video). Once you've done this, we also encourage you to provide additional solutions using more advanced techniques if you have prior Python experience.\n",
    "\n",
    "* To submit answers during the LGT, visit https://www.menti.com/alo15w5uhuz7 with code `1551 7724`.\n",
    "* Remember to add comments and explanations to your solutions, using markdown cells and comments in the code."
   ]
  },
  {
   "cell_type": "markdown",
   "id": "ef96d482-4167-4b35-9c37-0276ae0254f3",
   "metadata": {},
   "source": [
    "## Exercise 1\n",
    "\n",
    "Consider the following Python code:\n",
    "\n",
    "```{python}\n",
    "lst = [0, \"hello\", 5.7]\n",
    "```\n",
    "\n",
    "1. Print the second element of `lst`.\n",
    "2. What are the types of `lst` and its elements?\n",
    "3. Print the types in Python."
   ]
  },
  {
   "cell_type": "code",
   "execution_count": 1,
   "id": "223b1090-57a8-4b37-a884-036bc039ee59",
   "metadata": {},
   "outputs": [],
   "source": [
    "lst = [0, \"hello\", 5.7]"
   ]
  },
  {
   "cell_type": "code",
   "execution_count": 2,
   "id": "a7577f8d",
   "metadata": {},
   "outputs": [
    {
     "data": {
      "text/plain": [
       "'hello'"
      ]
     },
     "execution_count": 2,
     "metadata": {},
     "output_type": "execute_result"
    }
   ],
   "source": [
    "lst[1]"
   ]
  },
  {
   "cell_type": "code",
   "execution_count": 3,
   "id": "4cf38691",
   "metadata": {},
   "outputs": [
    {
     "name": "stdout",
     "output_type": "stream",
     "text": [
      "i is: <class 'int'>\n",
      "i is: <class 'str'>\n",
      "i is: <class 'float'>\n"
     ]
    }
   ],
   "source": [
    "for i in lst:\n",
    "    print(\"i is:\", type(i))"
   ]
  },
  {
   "cell_type": "markdown",
   "id": "82fef695-50c5-490e-8841-ecdc7d0520de",
   "metadata": {},
   "source": [
    "## Exercise 2\n",
    "\n",
    "Write a for loop that prints out the digits from 0 to 9 inclusive, in sequence, each on a separate line."
   ]
  },
  {
   "cell_type": "code",
   "execution_count": 4,
   "id": "8ad48048-b9fd-4ce5-9f24-745a62245c39",
   "metadata": {},
   "outputs": [
    {
     "name": "stdout",
     "output_type": "stream",
     "text": [
      "0\n",
      "1\n",
      "2\n",
      "3\n",
      "4\n",
      "5\n",
      "6\n",
      "7\n",
      "8\n",
      "9\n"
     ]
    }
   ],
   "source": [
    "for x in range(0,10):\n",
    "    print(f\"{x}\")\n"
   ]
  },
  {
   "cell_type": "markdown",
   "id": "7735097c-ff70-4dee-abab-8ca56b943068",
   "metadata": {},
   "source": [
    "## Exercise 3\n",
    "Consider the following code:\n",
    "```python\n",
    "name = \"Alice\"\n",
    "age = 25\n",
    "```\n",
    "1. Use the `+` operator to create a greeting message that says \"Hello Alice, you are 25 years old\" (**Hint:** you'll need to convert `age` to a string). Save the greeting message in a new variable.\n",
    "2. Print the result."
   ]
  },
  {
   "cell_type": "code",
   "execution_count": 5,
   "id": "bdfccf3a-3141-430f-b4f1-6c80d1d58956",
   "metadata": {},
   "outputs": [
    {
     "name": "stdout",
     "output_type": "stream",
     "text": [
      "Hello Alice,you are 25 years old\n"
     ]
    }
   ],
   "source": [
    "name = \"Alice\"\n",
    "age = 25\n",
    "\n",
    "print(f\"Hello {name},you are {age} years old\")"
   ]
  },
  {
   "cell_type": "code",
   "execution_count": 6,
   "id": "bb41992f",
   "metadata": {},
   "outputs": [
    {
     "name": "stdout",
     "output_type": "stream",
     "text": [
      "Hello Alice, you are 25 years old\n"
     ]
    }
   ],
   "source": [
    "age = str(age)\n",
    "print(\"Hello \"+name+\", you are \"+age+\" years old\")"
   ]
  },
  {
   "cell_type": "markdown",
   "id": "52c73c2c-6e0b-4a69-8306-ba5d0f7ee991",
   "metadata": {},
   "source": [
    "## Exercise 4\n",
    "1. Create a tuple called `coordinates` with the values `(10, 20)`.\n",
    "2. Try to change the first element to `15` (this should produce an error).\n",
    "3. Explain what happened and why."
   ]
  },
  {
   "cell_type": "code",
   "execution_count": 7,
   "id": "83342e9a-1e61-4f89-be25-446abd01cfc2",
   "metadata": {},
   "outputs": [],
   "source": [
    "coordinates = (10,20)"
   ]
  },
  {
   "cell_type": "code",
   "execution_count": 8,
   "id": "8aa065a5",
   "metadata": {},
   "outputs": [
    {
     "data": {
      "text/plain": [
       "tuple"
      ]
     },
     "execution_count": 8,
     "metadata": {},
     "output_type": "execute_result"
    }
   ],
   "source": [
    "type(coordinates)"
   ]
  },
  {
   "cell_type": "markdown",
   "id": "587e9337-e8de-40ec-be31-3f64d2906b0d",
   "metadata": {},
   "source": [
    "## Exercise 5\n",
    "\n",
    "Write a for loop that prints out the integers from 0 to 1000, separated by spaces, on a single line."
   ]
  },
  {
   "cell_type": "code",
   "execution_count": 9,
   "id": "fe7127cf-64e9-41b6-affa-cf80156658a2",
   "metadata": {},
   "outputs": [
    {
     "name": "stdout",
     "output_type": "stream",
     "text": [
      " 0 1 2 3 4 5 6 7 8 9 10 11 12 13 14 15 16 17 18 19 20 21 22 23 24 25 26 27 28 29 30 31 32 33 34 35 36 37 38 39 40 41 42 43 44 45 46 47 48 49 50 51 52 53 54 55 56 57 58 59 60 61 62 63 64 65 66 67 68 69 70 71 72 73 74 75 76 77 78 79 80 81 82 83 84 85 86 87 88 89 90 91 92 93 94 95 96 97 98 99 100 101 102 103 104 105 106 107 108 109 110 111 112 113 114 115 116 117 118 119 120 121 122 123 124 125 126 127 128 129 130 131 132 133 134 135 136 137 138 139 140 141 142 143 144 145 146 147 148 149 150 151 152 153 154 155 156 157 158 159 160 161 162 163 164 165 166 167 168 169 170 171 172 173 174 175 176 177 178 179 180 181 182 183 184 185 186 187 188 189 190 191 192 193 194 195 196 197 198 199 200 201 202 203 204 205 206 207 208 209 210 211 212 213 214 215 216 217 218 219 220 221 222 223 224 225 226 227 228 229 230 231 232 233 234 235 236 237 238 239 240 241 242 243 244 245 246 247 248 249 250 251 252 253 254 255 256 257 258 259 260 261 262 263 264 265 266 267 268 269 270 271 272 273 274 275 276 277 278 279 280 281 282 283 284 285 286 287 288 289 290 291 292 293 294 295 296 297 298 299 300 301 302 303 304 305 306 307 308 309 310 311 312 313 314 315 316 317 318 319 320 321 322 323 324 325 326 327 328 329 330 331 332 333 334 335 336 337 338 339 340 341 342 343 344 345 346 347 348 349 350 351 352 353 354 355 356 357 358 359 360 361 362 363 364 365 366 367 368 369 370 371 372 373 374 375 376 377 378 379 380 381 382 383 384 385 386 387 388 389 390 391 392 393 394 395 396 397 398 399 400 401 402 403 404 405 406 407 408 409 410 411 412 413 414 415 416 417 418 419 420 421 422 423 424 425 426 427 428 429 430 431 432 433 434 435 436 437 438 439 440 441 442 443 444 445 446 447 448 449 450 451 452 453 454 455 456 457 458 459 460 461 462 463 464 465 466 467 468 469 470 471 472 473 474 475 476 477 478 479 480 481 482 483 484 485 486 487 488 489 490 491 492 493 494 495 496 497 498 499 500 501 502 503 504 505 506 507 508 509 510 511 512 513 514 515 516 517 518 519 520 521 522 523 524 525 526 527 528 529 530 531 532 533 534 535 536 537 538 539 540 541 542 543 544 545 546 547 548 549 550 551 552 553 554 555 556 557 558 559 560 561 562 563 564 565 566 567 568 569 570 571 572 573 574 575 576 577 578 579 580 581 582 583 584 585 586 587 588 589 590 591 592 593 594 595 596 597 598 599 600 601 602 603 604 605 606 607 608 609 610 611 612 613 614 615 616 617 618 619 620 621 622 623 624 625 626 627 628 629 630 631 632 633 634 635 636 637 638 639 640 641 642 643 644 645 646 647 648 649 650 651 652 653 654 655 656 657 658 659 660 661 662 663 664 665 666 667 668 669 670 671 672 673 674 675 676 677 678 679 680 681 682 683 684 685 686 687 688 689 690 691 692 693 694 695 696 697 698 699 700 701 702 703 704 705 706 707 708 709 710 711 712 713 714 715 716 717 718 719 720 721 722 723 724 725 726 727 728 729 730 731 732 733 734 735 736 737 738 739 740 741 742 743 744 745 746 747 748 749 750 751 752 753 754 755 756 757 758 759 760 761 762 763 764 765 766 767 768 769 770 771 772 773 774 775 776 777 778 779 780 781 782 783 784 785 786 787 788 789 790 791 792 793 794 795 796 797 798 799 800 801 802 803 804 805 806 807 808 809 810 811 812 813 814 815 816 817 818 819 820 821 822 823 824 825 826 827 828 829 830 831 832 833 834 835 836 837 838 839 840 841 842 843 844 845 846 847 848 849 850 851 852 853 854 855 856 857 858 859 860 861 862 863 864 865 866 867 868 869 870 871 872 873 874 875 876 877 878 879 880 881 882 883 884 885 886 887 888 889 890 891 892 893 894 895 896 897 898 899 900 901 902 903 904 905 906 907 908 909 910 911 912 913 914 915 916 917 918 919 920 921 922 923 924 925 926 927 928 929 930 931 932 933 934 935 936 937 938 939 940 941 942 943 944 945 946 947 948 949 950 951 952 953 954 955 956 957 958 959 960 961 962 963 964 965 966 967 968 969 970 971 972 973 974 975 976 977 978 979 980 981 982 983 984 985 986 987 988 989 990 991 992 993 994 995 996 997 998 999 1000 \n"
     ]
    }
   ],
   "source": [
    "temp = \" \"\n",
    "for x in range(1001):\n",
    "    x = str(x)\n",
    "    temp = temp + x + \" \"\n",
    "\n",
    "print(temp)"
   ]
  },
  {
   "cell_type": "markdown",
   "id": "0856bbdf-6ae1-4b00-867f-8ef0707829e0",
   "metadata": {},
   "source": [
    "## Exercise 6\n",
    "\n",
    "Suppose `x` is a list of integers.\n",
    "\n",
    "1. Write code that copies `x` into a variable called `y`.\n",
    "2. Write code that produces a list `z` containing only the positive integers of `x`."
   ]
  },
  {
   "cell_type": "code",
   "execution_count": 10,
   "id": "62413da8-e8d7-43b8-9960-f43bd2395ff6",
   "metadata": {},
   "outputs": [],
   "source": [
    "x = [1,2,3,5,6,-1,-3,-4,-8]\n",
    "\n",
    "y = x"
   ]
  },
  {
   "cell_type": "code",
   "execution_count": 11,
   "id": "b252c66f",
   "metadata": {},
   "outputs": [
    {
     "data": {
      "text/plain": [
       "True"
      ]
     },
     "execution_count": 11,
     "metadata": {},
     "output_type": "execute_result"
    }
   ],
   "source": [
    "y is x"
   ]
  },
  {
   "cell_type": "code",
   "execution_count": 12,
   "id": "9f7e611f",
   "metadata": {},
   "outputs": [
    {
     "name": "stdout",
     "output_type": "stream",
     "text": [
      "[1, 2, 3, 5, 6]\n"
     ]
    }
   ],
   "source": [
    "z = []\n",
    "for number in x:\n",
    "    if number >= 0:\n",
    "        z.append(number)\n",
    "\n",
    "print(z)"
   ]
  },
  {
   "cell_type": "markdown",
   "id": "75bb4850-3681-434f-9fcc-61e985d2abdf",
   "metadata": {},
   "source": [
    "## Exercise 7\n",
    "\n",
    "The Caesar cipher works by shifting each character in the original message (plaintext) by a fixed number of positions up. \n",
    "\n",
    "For example, with a shift of 3, 'A' becomes 'D', 'B' becomes 'E', and so on. And the message \"HELLO\" becomes \"\"\n",
    "\n",
    "1. Implement the Caesar cipher encryption.\n",
    "\n",
    "**Hints:**\n",
    "1. Define two variables, `plaintext` and `shift`. What types of values should these be or contain?\n",
    "2. Recall from the lecture that it's possible in Python to convert characters from and to (numerical) ASCII values.\n",
    "3. Use a for loop to iterate over each character in `plaintext', shift the character, and print out the shifted character."
   ]
  },
  {
   "cell_type": "code",
   "execution_count": null,
   "id": "b748a976-4a36-4eef-a1c2-b75398c0b388",
   "metadata": {},
   "outputs": [],
   "source": [
    "plaintext = \"HELLO\"\n",
    "shitft = 3 \n",
    "\n",
    "for char in plaintext:\n",
    "    temp = ord(char) + shitft\n"
   ]
  },
  {
   "cell_type": "markdown",
   "id": "52faf506-2c3c-414f-907e-6742a980dd9a",
   "metadata": {},
   "source": [
    "## Exercise 8\n",
    "\n",
    "Now implement a way to *decrypt* a message (ciphertext) encrypted using the Caeser cipher.\n",
    "\n",
    "Test your encryption and decryption code by encrypting and then decrypting an example message.\n",
    "\n",
    "**Hints:**\n",
    "1. Define two variables, `ciphertext` and `shift`.\n",
    "2. The logic should be very similar to the encryption code from the previous exercise."
   ]
  },
  {
   "cell_type": "code",
   "execution_count": 1,
   "id": "741469be-3236-4287-8f16-55deeedcb81c",
   "metadata": {},
   "outputs": [
    {
     "name": "stdout",
     "output_type": "stream",
     "text": [
      "HELLO\n"
     ]
    }
   ],
   "source": [
    "ciphertext = chr\n",
    "shift = int\n",
    "\n",
    "def caesar_cipher(ciphertext, shift):\n",
    "    result = \"\"\n",
    "    for char in ciphertext:\n",
    "        char = ord(char) - shift\n",
    "        result += chr(char)\n",
    "    return result\n",
    "\n",
    "print(caesar_cipher(\"KHOOR\", 3))"
   ]
  },
  {
   "cell_type": "markdown",
   "id": "1c952656-7441-4d06-a556-8df7a5e10dc9",
   "metadata": {},
   "source": [
    "## Exercise 9\n",
    "\n",
    "Write code that converts temperature `x` from Fahrenheit to Celsius, and temperature `y` from Celsius to Fahrenheit.\n",
    "\n",
    "From Wikipedia:\n",
    "\n",
    "$$\n",
    "x \\degree F = \\frac{5}{9} \\times (x-32) \\degree C.\n",
    "$$\n",
    "\n",
    "$$\n",
    "y \\degree C = (y \\times \\frac{5}{9} + 32) \\degree F.\n",
    "$$"
   ]
  },
  {
   "cell_type": "code",
   "execution_count": 3,
   "id": "63398bfc-f366-47b3-8df5-13f965c7baeb",
   "metadata": {},
   "outputs": [
    {
     "name": "stdout",
     "output_type": "stream",
     "text": [
      "(212.0, -7.222222222222222)\n"
     ]
    }
   ],
   "source": [
    "def temperature_change(x,y):\n",
    "    c_to_f = (x * 9/5) + 32\n",
    "    f_to_c = (y - 32) * 5/9\n",
    "    return c_to_f, f_to_c\n",
    "\n",
    "print(temperature_change(100,19))\n",
    "    "
   ]
  },
  {
   "cell_type": "code",
   "execution_count": 17,
   "id": "3144a42d",
   "metadata": {},
   "outputs": [
    {
     "data": {
      "text/plain": [
       "'f55'"
      ]
     },
     "execution_count": 17,
     "metadata": {},
     "output_type": "execute_result"
    }
   ],
   "source": [
    "x = chr(ord(\"a\")+5)+str(55)\n",
    "x"
   ]
  },
  {
   "cell_type": "code",
   "execution_count": 18,
   "id": "8c1935de",
   "metadata": {},
   "outputs": [
    {
     "name": "stdout",
     "output_type": "stream",
     "text": [
      "12\n"
     ]
    }
   ],
   "source": [
    "print(\"1\"+\"2\")"
   ]
  },
  {
   "cell_type": "code",
   "execution_count": 19,
   "id": "3f18ea77",
   "metadata": {},
   "outputs": [
    {
     "name": "stdout",
     "output_type": "stream",
     "text": [
      "1\n",
      "2\n",
      "3\n",
      "4\n"
     ]
    }
   ],
   "source": [
    "for i in [1,2,3,4]:\n",
    "    print(i)"
   ]
  },
  {
   "cell_type": "code",
   "execution_count": 29,
   "id": "213ec02a",
   "metadata": {},
   "outputs": [],
   "source": [
    "X = [1,2,'a',3.5]\n",
    "Z = [1,2,'a',3.5]"
   ]
  },
  {
   "cell_type": "code",
   "execution_count": null,
   "id": "b5c4cdb3",
   "metadata": {},
   "outputs": [
    {
     "data": {
      "text/plain": [
       "[1, 2, 'a', 3.5]"
      ]
     },
     "execution_count": 30,
     "metadata": {},
     "output_type": "execute_result"
    }
   ],
   "source": [
    "Y = X\n",
    "X"
   ]
  },
  {
   "cell_type": "code",
   "execution_count": null,
   "id": "add5b80b",
   "metadata": {},
   "outputs": [
    {
     "name": "stdout",
     "output_type": "stream",
     "text": [
      "[1, 2, 'a', 3.5, 2]\n",
      "[1, 2, 'a', 3.5, 1]\n"
     ]
    }
   ],
   "source": [
    "Z.append(1)\n",
    "Y.append(Z[1])\n",
    "print(Y)\n",
    "print(Z)"
   ]
  },
  {
   "cell_type": "code",
   "execution_count": 32,
   "id": "d99f7042",
   "metadata": {},
   "outputs": [
    {
     "data": {
      "text/plain": [
       "[1, 2, 'a', 3.5, 2]"
      ]
     },
     "execution_count": 32,
     "metadata": {},
     "output_type": "execute_result"
    }
   ],
   "source": [
    "Z = X\n",
    "Z"
   ]
  },
  {
   "cell_type": "code",
   "execution_count": null,
   "id": "e16abe15",
   "metadata": {},
   "outputs": [],
   "source": [
    "X = [1,2,'a']\n"
   ]
  },
  {
   "cell_type": "code",
   "execution_count": 22,
   "id": "d61abbab",
   "metadata": {},
   "outputs": [
    {
     "data": {
      "text/plain": [
       "[1, 2, 'a', 3.5, 2]"
      ]
     },
     "execution_count": 22,
     "metadata": {},
     "output_type": "execute_result"
    }
   ],
   "source": [
    "Z"
   ]
  },
  {
   "cell_type": "code",
   "execution_count": null,
   "id": "bb8e7ed7",
   "metadata": {},
   "outputs": [],
   "source": [
    "s1 = {1,2,3,4}\n",
    "s2 = {3,4,5,6}\n",
    "s1.union(s2) - s1"
   ]
  },
  {
   "cell_type": "code",
   "execution_count": null,
   "id": "f227cc41",
   "metadata": {},
   "outputs": [],
   "source": []
  }
 ],
 "metadata": {
  "kernelspec": {
   "display_name": "Python 3",
   "language": "python",
   "name": "python3"
  },
  "language_info": {
   "codemirror_mode": {
    "name": "ipython",
    "version": 3
   },
   "file_extension": ".py",
   "mimetype": "text/x-python",
   "name": "python",
   "nbconvert_exporter": "python",
   "pygments_lexer": "ipython3",
   "version": "3.11.8"
  }
 },
 "nbformat": 4,
 "nbformat_minor": 5
}

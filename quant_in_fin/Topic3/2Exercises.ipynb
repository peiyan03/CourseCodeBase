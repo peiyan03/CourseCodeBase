{
 "cells": [
  {
   "cell_type": "markdown",
   "id": "93ba90",
   "metadata": {
    "collapsed": false,
    "slideshow": {
     "slide_type": "slide"
    }
   },
   "source": [
    "# Exercises"
   ]
  },
  {
   "cell_type": "markdown",
   "id": "454fda",
   "metadata": {
    "collapsed": false,
    "slideshow": {
     "slide_type": "slide"
    }
   },
   "source": [
    "## Exercise\n",
    "\n",
    "Suppose that ${\\bf X}$ follows a standard normal distribution. Define ${\\bf Y}=H {\\bf X} + {\\boldsymbol{\\mu}}$ for a vector $\\boldsymbol{\n",
    "\\mu} \\in {\\mathbb R}^n$ and an invertible matrix $H$ with $U:=H^{-1}$. Show that ${\\bf Y}$ has density\n",
    "\n",
    "$$\n",
    "(2 \\pi)^{-\\frac{n}{2}} \\exp \\left( -\\frac{{(\\bf y - \\boldsymbol{\\mu})}^\\top U^\\top U {(\\bf y - \\boldsymbol{\\mu})}}{2} \\right) \\det{U}\n",
    "$$\n",
    "\n",
    "Show that the mean of $\\bf Y$ is $\\boldsymbol{\\mu}$.\n",
    "\n",
    "This generalizes the results I have shown you to include distributions with non-zero mean.\n",
    "\n",
    "(This is a maths exercise and is not automatically marked)"
   ]
  },
  {
   "cell_type": "code",
   "execution_count": 0,
   "id": "a81ebf",
   "metadata": {
    "collapsed": false
   },
   "outputs": [
   ],
   "source": [
    "Done on notes\n",
    "# Should Be checked again\n",
    "Step 1: Equaitons\n",
    "- X normal distribution equation\n",
    "- Y and X inverse\n",
    "Step 2: Find the PDF of Y with simplify\n",
    "Step 3: find the ean of Y using expecation "
   ]
  }
 ],
 "metadata": {
  "kernelspec": {
   "argv": [
    "/usr/bin/python3",
    "-m",
    "ipykernel",
    "--HistoryManager.enabled=False",
    "--matplotlib=inline",
    "-c",
    "%config InlineBackend.figure_formats = set(['retina'])\nimport matplotlib; matplotlib.rcParams['figure.figsize'] = (12, 7)",
    "-f",
    "{connection_file}"
   ],
   "display_name": "Python 3 (system-wide)",
   "env": {
   },
   "language": "python",
   "metadata": {
    "cocalc": {
     "description": "Python 3 programming language",
     "priority": 100,
     "url": "https://www.python.org/"
    }
   },
   "name": "python3",
   "resource_dir": "/ext/jupyter/kernels/python3"
  },
  "language_info": {
   "codemirror_mode": {
    "name": "ipython",
    "version": 3
   },
   "file_extension": ".py",
   "mimetype": "text/x-python",
   "name": "python",
   "nbconvert_exporter": "python",
   "pygments_lexer": "ipython3",
   "version": "3.8.2"
  }
 },
 "nbformat": 4,
 "nbformat_minor": 4
}